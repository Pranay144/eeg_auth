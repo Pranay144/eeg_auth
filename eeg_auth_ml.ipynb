{
 "cells": [
  {
   "cell_type": "code",
   "execution_count": 15,
   "metadata": {},
   "outputs": [],
   "source": [
    "#imports\n",
    "import pandas as pd\n",
    "import numpy as np\n",
    "from sklearn.model_selection import train_test_split\n",
    "from sklearn.preprocessing import StandardScaler\n",
    "from sklearn.neural_network import MLPClassifier\n",
    "from sklearn.metrics import classification_report, confusion_matrix\n",
    "from sklearn.metrics import mean_squared_error\n"
   ]
  },
  {
   "cell_type": "code",
   "execution_count": 27,
   "metadata": {},
   "outputs": [],
   "source": [
    "\n",
    "df = pd.read_excel('train_feature3sensor.xlsx',sheet_name='Sheet2')\n",
    "df.to_csv('eeg_data.csv', index = None, header=True)\n",
    "\n",
    "eeg_data = pd.read_csv('eeg_data.csv')\n",
    "\n",
    "X = eeg_data.iloc[:, 0:11]\n",
    "\n",
    "y = eeg_data['subject']\n"
   ]
  },
  {
   "cell_type": "code",
   "execution_count": 28,
   "metadata": {
    "tags": []
   },
   "outputs": [],
   "source": [
    "\n",
    "X_train, X_test, y_train, y_test = train_test_split(X, y, test_size = 0.20)\n"
   ]
  },
  {
   "cell_type": "code",
   "execution_count": 29,
   "metadata": {
    "tags": []
   },
   "outputs": [],
   "source": [
    "\n",
    "scaler = StandardScaler()\n",
    "scaler.fit(X_train)\n",
    "\n",
    "X_train = scaler.transform(X_train)\n",
    "X_test = scaler.transform(X_test)\n"
   ]
  },
  {
   "cell_type": "code",
   "execution_count": 40,
   "metadata": {
    "tags": []
   },
   "outputs": [
    {
     "output_type": "stream",
     "name": "stdout",
     "text": "MLPClassifier(activation='relu', alpha=0.0001, batch_size='auto', beta_1=0.9,\n              beta_2=0.999, early_stopping=False, epsilon=1e-08,\n              hidden_layer_sizes=(12, 10, 10), learning_rate='constant',\n              learning_rate_init=0.001, max_fun=15000, max_iter=5000,\n              momentum=0.9, n_iter_no_change=10, nesterovs_momentum=True,\n              power_t=0.5, random_state=None, shuffle=True, solver='adam',\n              tol=0.0001, validation_fraction=0.1, verbose=False,\n              warm_start=False)\n"
    }
   ],
   "source": [
    "\n",
    "mlp = MLPClassifier(activation='relu', alpha=0.0001, batch_size='auto', beta_1=0.9,\n",
    "              beta_2=0.999, early_stopping=False, epsilon=1e-08,\n",
    "              hidden_layer_sizes=(12, 10, 10), learning_rate='constant',\n",
    "              learning_rate_init=0.001, max_fun=15000, max_iter=5000,\n",
    "              momentum=0.9, n_iter_no_change=10, nesterovs_momentum=True,\n",
    "              power_t=0.5, random_state=None, shuffle=True, solver='adam',\n",
    "              tol=0.0001, validation_fraction=0.1, verbose=False,\n",
    "              warm_start=False)\n",
    "mlp.fit(X_train, y_train)\n",
    "print(mlp)\n",
    "predictions = mlp.predict(X_train)\n",
    "\n"
   ]
  },
  {
   "cell_type": "code",
   "execution_count": 41,
   "metadata": {
    "tags": []
   },
   "outputs": [
    {
     "output_type": "stream",
     "name": "stdout",
     "text": "[[9 0 0 0 0 0 0 0 0 0]\n [0 6 0 0 0 0 0 0 0 0]\n [0 0 8 0 0 0 0 0 0 0]\n [0 0 0 8 0 0 0 0 0 0]\n [0 0 0 0 9 0 0 0 0 0]\n [0 0 0 0 0 9 0 0 0 0]\n [0 0 0 0 0 0 7 0 0 0]\n [0 0 0 0 0 0 0 6 0 0]\n [0 0 0 0 0 0 0 0 9 0]\n [0 0 0 0 0 0 0 0 0 9]]\n              precision    recall  f1-score   support\n\n           0       1.00      1.00      1.00         9\n           1       1.00      1.00      1.00         6\n           2       1.00      1.00      1.00         8\n           3       1.00      1.00      1.00         8\n           4       1.00      1.00      1.00         9\n           5       1.00      1.00      1.00         9\n           6       1.00      1.00      1.00         7\n           7       1.00      1.00      1.00         6\n           8       1.00      1.00      1.00         9\n           9       1.00      1.00      1.00         9\n\n    accuracy                           1.00        80\n   macro avg       1.00      1.00      1.00        80\nweighted avg       1.00      1.00      1.00        80\n\n0.0\n"
    }
   ],
   "source": [
    "\n",
    "print(confusion_matrix(y_train,predictions))\n",
    "clf_report = classification_report(y_train,predictions)\n",
    "print(clf_report)\n",
    "print(mean_squared_error(y_train,predictions))"
   ]
  },
  {
   "cell_type": "code",
   "execution_count": null,
   "metadata": {},
   "outputs": [],
   "source": []
  },
  {
   "cell_type": "code",
   "execution_count": 10,
   "metadata": {
    "tags": []
   },
   "outputs": [
    {
     "output_type": "execute_result",
     "data": {
      "text/plain": "MLPClassifier(activation='relu', alpha=0.0001, batch_size='auto', beta_1=0.9,\n              beta_2=0.999, early_stopping=False, epsilon=1e-08,\n              hidden_layer_sizes=(12, 10, 10), learning_rate='constant',\n              learning_rate_init=0.001, max_fun=15000, max_iter=5000,\n              momentum=0.9, n_iter_no_change=10, nesterovs_momentum=True,\n              power_t=0.5, random_state=None, shuffle=True, solver='adam',\n              tol=0.0001, validation_fraction=0.1, verbose=False,\n              warm_start=False)"
     },
     "metadata": {},
     "execution_count": 10
    }
   ],
   "source": [
    "new_data = [[1.1539\t,-1.4534,\t3.6602,\t2.5583,\t6.5447,\t1,\t6.5547,\t1.2549,\t1.5,\t17.0838,\t0.3333]]\n",
    "ndt = scaler.transform(new_data)\n",
    "mlp.fit(ndt,['anuj'])"
   ]
  },
  {
   "cell_type": "code",
   "execution_count": 35,
   "metadata": {},
   "outputs": [],
   "source": [
    "import pickle\n",
    "\n",
    "eeg_ml_pkl = \"eeg_auth.pkl\"\n",
    "with open(eeg_ml_pkl, 'wb') as file:\n",
    "    pickle.dump(mlp,file)"
   ]
  },
  {
   "cell_type": "code",
   "execution_count": 16,
   "metadata": {},
   "outputs": [],
   "source": [
    "with open('eeg_auth.pkl','rb') as file:\n",
    "    eeg_model = pickle.load(file)"
   ]
  },
  {
   "cell_type": "code",
   "execution_count": 17,
   "metadata": {
    "tags": []
   },
   "outputs": [
    {
     "output_type": "stream",
     "name": "stdout",
     "text": "score: 100.00 %\n"
    }
   ],
   "source": [
    "score = eeg_model.score(X_train,y_train)\n",
    "print(\"score: {0:.2f} %\".format(100*score))"
   ]
  },
  {
   "cell_type": "code",
   "execution_count": null,
   "metadata": {},
   "outputs": [],
   "source": []
  },
  {
   "cell_type": "code",
   "execution_count": null,
   "metadata": {},
   "outputs": [],
   "source": []
  }
 ],
 "metadata": {
  "language_info": {
   "codemirror_mode": {
    "name": "ipython",
    "version": 3
   },
   "file_extension": ".py",
   "mimetype": "text/x-python",
   "name": "python",
   "nbconvert_exporter": "python",
   "pygments_lexer": "ipython3",
   "version": "3.7.6-final"
  },
  "orig_nbformat": 2,
  "kernelspec": {
   "name": "python37664bit72c3a50786f2448b83125f2cd43c79ad",
   "display_name": "Python 3.7.6 64-bit"
  }
 },
 "nbformat": 4,
 "nbformat_minor": 2
}